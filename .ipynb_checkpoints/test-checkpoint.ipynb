{
 "cells": [
  {
   "cell_type": "code",
   "execution_count": 2,
   "metadata": {},
   "outputs": [],
   "source": [
    "from AutoDD_Rev2.AutoDD import *\n",
    "from get_data import *\n",
    "import pandas as pd\n",
    "\n",
    "import dominate\n",
    "from dominate.tags import div, p, h1"
   ]
  },
  {
   "cell_type": "code",
   "execution_count": 3,
   "metadata": {},
   "outputs": [
    {
     "name": "stdout",
     "output_type": "stream",
     "text": [
      "Getting submissions...\n",
      "Searching for tickers...\n",
      "Populating results...\n",
      "Counting rockets...\n",
      "Getting quick stats...\n"
     ]
    },
    {
     "ename": "TypeError",
     "evalue": "join() argument must be str, bytes, or os.PathLike object, not 'NoneType'",
     "output_type": "error",
     "traceback": [
      "\u001b[0;31m---------------------------------------------------------------------------\u001b[0m",
      "\u001b[0;31mTypeError\u001b[0m                                 Traceback (most recent call last)",
      "\u001b[0;32m<ipython-input-3-b8fac442283e>\u001b[0m in \u001b[0;36m<module>\u001b[0;34m\u001b[0m\n\u001b[0;32m----> 1\u001b[0;31m \u001b[0ma\u001b[0m \u001b[0;34m=\u001b[0m \u001b[0mrefresh_data\u001b[0m\u001b[0;34m(\u001b[0m\u001b[0;34m)\u001b[0m\u001b[0;34m\u001b[0m\u001b[0;34m\u001b[0m\u001b[0m\n\u001b[0m",
      "\u001b[0;32m~/Desktop/reddit-stocks/get_data.py\u001b[0m in \u001b[0;36mrefresh_data\u001b[0;34m(interval, sub, min, allsub, sort, yahoo)\u001b[0m\n\u001b[1;32m    118\u001b[0m         \u001b[0mresults_tbl\u001b[0m \u001b[0;34m=\u001b[0m \u001b[0mgetTickerInfo\u001b[0m\u001b[0;34m(\u001b[0m\u001b[0mresults_tbl\u001b[0m\u001b[0;34m)\u001b[0m\u001b[0;34m\u001b[0m\u001b[0;34m\u001b[0m\u001b[0m\n\u001b[1;32m    119\u001b[0m \u001b[0;34m\u001b[0m\u001b[0m\n\u001b[0;32m--> 120\u001b[0;31m     \u001b[0;32mreturn\u001b[0m \u001b[0mprint_tbl\u001b[0m\u001b[0;34m(\u001b[0m\u001b[0mresults_tbl\u001b[0m\u001b[0;34m,\u001b[0m \u001b[0;32mNone\u001b[0m\u001b[0;34m,\u001b[0m \u001b[0mallsub\u001b[0m\u001b[0;34m,\u001b[0m \u001b[0myahoo\u001b[0m\u001b[0;34m,\u001b[0m \u001b[0;32mNone\u001b[0m\u001b[0;34m)\u001b[0m\u001b[0;34m\u001b[0m\u001b[0;34m\u001b[0m\u001b[0m\n\u001b[0m",
      "\u001b[0;32m~/Desktop/reddit-stocks/AutoDD_Rev2/AutoDD.py\u001b[0m in \u001b[0;36mprint_tbl\u001b[0;34m(tbl, filename, allsub, yahoo, return_type)\u001b[0m\n\u001b[1;32m    359\u001b[0m \u001b[0;34m\u001b[0m\u001b[0m\n\u001b[1;32m    360\u001b[0m     \u001b[0;31m# save the file to the same dir as the AutoDD.py script\u001b[0m\u001b[0;34m\u001b[0m\u001b[0;34m\u001b[0m\u001b[0;34m\u001b[0m\u001b[0m\n\u001b[0;32m--> 361\u001b[0;31m     \u001b[0mcompleteName\u001b[0m \u001b[0;34m=\u001b[0m \u001b[0mos\u001b[0m\u001b[0;34m.\u001b[0m\u001b[0mpath\u001b[0m\u001b[0;34m.\u001b[0m\u001b[0mjoin\u001b[0m\u001b[0;34m(\u001b[0m\u001b[0msys\u001b[0m\u001b[0;34m.\u001b[0m\u001b[0mpath\u001b[0m\u001b[0;34m[\u001b[0m\u001b[0;36m0\u001b[0m\u001b[0;34m]\u001b[0m\u001b[0;34m,\u001b[0m \u001b[0mfilename\u001b[0m\u001b[0;34m)\u001b[0m\u001b[0;34m\u001b[0m\u001b[0;34m\u001b[0m\u001b[0m\n\u001b[0m\u001b[1;32m    362\u001b[0m \u001b[0;34m\u001b[0m\u001b[0m\n\u001b[1;32m    363\u001b[0m     \u001b[0;31m# write to file\u001b[0m\u001b[0;34m\u001b[0m\u001b[0;34m\u001b[0m\u001b[0;34m\u001b[0m\u001b[0m\n",
      "\u001b[0;32m~/.pyenv/versions/anaconda3-5.3.1/envs/reddit-stocks/lib/python3.8/posixpath.py\u001b[0m in \u001b[0;36mjoin\u001b[0;34m(a, *p)\u001b[0m\n\u001b[1;32m     88\u001b[0m                 \u001b[0mpath\u001b[0m \u001b[0;34m+=\u001b[0m \u001b[0msep\u001b[0m \u001b[0;34m+\u001b[0m \u001b[0mb\u001b[0m\u001b[0;34m\u001b[0m\u001b[0;34m\u001b[0m\u001b[0m\n\u001b[1;32m     89\u001b[0m     \u001b[0;32mexcept\u001b[0m \u001b[0;34m(\u001b[0m\u001b[0mTypeError\u001b[0m\u001b[0;34m,\u001b[0m \u001b[0mAttributeError\u001b[0m\u001b[0;34m,\u001b[0m \u001b[0mBytesWarning\u001b[0m\u001b[0;34m)\u001b[0m\u001b[0;34m:\u001b[0m\u001b[0;34m\u001b[0m\u001b[0;34m\u001b[0m\u001b[0m\n\u001b[0;32m---> 90\u001b[0;31m         \u001b[0mgenericpath\u001b[0m\u001b[0;34m.\u001b[0m\u001b[0m_check_arg_types\u001b[0m\u001b[0;34m(\u001b[0m\u001b[0;34m'join'\u001b[0m\u001b[0;34m,\u001b[0m \u001b[0ma\u001b[0m\u001b[0;34m,\u001b[0m \u001b[0;34m*\u001b[0m\u001b[0mp\u001b[0m\u001b[0;34m)\u001b[0m\u001b[0;34m\u001b[0m\u001b[0;34m\u001b[0m\u001b[0m\n\u001b[0m\u001b[1;32m     91\u001b[0m         \u001b[0;32mraise\u001b[0m\u001b[0;34m\u001b[0m\u001b[0;34m\u001b[0m\u001b[0m\n\u001b[1;32m     92\u001b[0m     \u001b[0;32mreturn\u001b[0m \u001b[0mpath\u001b[0m\u001b[0;34m\u001b[0m\u001b[0;34m\u001b[0m\u001b[0m\n",
      "\u001b[0;32m~/.pyenv/versions/anaconda3-5.3.1/envs/reddit-stocks/lib/python3.8/genericpath.py\u001b[0m in \u001b[0;36m_check_arg_types\u001b[0;34m(funcname, *args)\u001b[0m\n\u001b[1;32m    150\u001b[0m             \u001b[0mhasbytes\u001b[0m \u001b[0;34m=\u001b[0m \u001b[0;32mTrue\u001b[0m\u001b[0;34m\u001b[0m\u001b[0;34m\u001b[0m\u001b[0m\n\u001b[1;32m    151\u001b[0m         \u001b[0;32melse\u001b[0m\u001b[0;34m:\u001b[0m\u001b[0;34m\u001b[0m\u001b[0;34m\u001b[0m\u001b[0m\n\u001b[0;32m--> 152\u001b[0;31m             raise TypeError(f'{funcname}() argument must be str, bytes, or '\n\u001b[0m\u001b[1;32m    153\u001b[0m                             f'os.PathLike object, not {s.__class__.__name__!r}') from None\n\u001b[1;32m    154\u001b[0m     \u001b[0;32mif\u001b[0m \u001b[0mhasstr\u001b[0m \u001b[0;32mand\u001b[0m \u001b[0mhasbytes\u001b[0m\u001b[0;34m:\u001b[0m\u001b[0;34m\u001b[0m\u001b[0;34m\u001b[0m\u001b[0m\n",
      "\u001b[0;31mTypeError\u001b[0m: join() argument must be str, bytes, or os.PathLike object, not 'NoneType'"
     ]
    }
   ],
   "source": [
    "a = refresh_data()"
   ]
  },
  {
   "cell_type": "code",
   "execution_count": 3,
   "metadata": {},
   "outputs": [],
   "source": [
    "interval = 24\n",
    "sub = 'pennystocks'\n",
    "min = 10\n",
    "allsub = False\n",
    "sort = 1\n",
    "yahoo = False"
   ]
  },
  {
   "cell_type": "code",
   "execution_count": 4,
   "metadata": {},
   "outputs": [
    {
     "name": "stdout",
     "output_type": "stream",
     "text": [
      "Getting submissions...\n"
     ]
    }
   ],
   "source": [
    "print(\"Getting submissions...\")\n",
    "# call reddit api to get results\n",
    "results_from_api = get_submission(interval/2, sub)  "
   ]
  },
  {
   "cell_type": "code",
   "execution_count": 5,
   "metadata": {},
   "outputs": [
    {
     "name": "stdout",
     "output_type": "stream",
     "text": [
      "Searching for tickers...\n"
     ]
    }
   ],
   "source": [
    "print(\"Searching for tickers...\")\n",
    "current_tbl, current_rockets = get_freq_list(results_from_api[0])\n",
    "prev_tbl, prev_rockets = get_freq_list(results_from_api[1])"
   ]
  },
  {
   "cell_type": "code",
   "execution_count": 6,
   "metadata": {},
   "outputs": [
    {
     "name": "stdout",
     "output_type": "stream",
     "text": [
      "Populating results...\n"
     ]
    }
   ],
   "source": [
    "print(\"Populating results...\")\n",
    "results_tbl = combine_tbl(current_tbl, prev_tbl)\n",
    "\n",
    "results_tbl = filter_tbl(results_tbl, min)"
   ]
  },
  {
   "cell_type": "code",
   "execution_count": 7,
   "metadata": {},
   "outputs": [
    {
     "name": "stdout",
     "output_type": "stream",
     "text": [
      "Counting rockets...\n"
     ]
    }
   ],
   "source": [
    "print(\"Counting rockets...\")\n",
    "results_tbl = append_rocket_tbl(results_tbl, current_rockets, prev_rockets)\n",
    "\n",
    "if allsub:\n",
    "    print(\"Searching other subreddits...\")\n",
    "    for api_result in results_from_api[2:]:\n",
    "        results_tbl = additional_filter(results_tbl, api_result)"
   ]
  },
  {
   "cell_type": "code",
   "execution_count": 8,
   "metadata": {},
   "outputs": [
    {
     "name": "stdout",
     "output_type": "stream",
     "text": [
      "Getting quick stats...\n"
     ]
    }
   ],
   "source": [
    "print(\"Getting quick stats...\")\n",
    "results_tbl = getQuickStats(results_tbl)\n",
    "\n",
    "if yahoo:\n",
    "    print(\"Getting yahoo finance information...\")\n",
    "    results_tbl = getTickerInfo(results_tbl)\n"
   ]
  },
  {
   "cell_type": "code",
   "execution_count": 11,
   "metadata": {},
   "outputs": [
    {
     "name": "stdout",
     "output_type": "stream",
     "text": [
      "/Users/kobakhitalishvili/Desktop/reddit-stocks/None\n"
     ]
    }
   ],
   "source": [
    "df = print_tbl(results_tbl, 'None', allsub, yahoo, None)"
   ]
  },
  {
   "cell_type": "code",
   "execution_count": null,
   "metadata": {},
   "outputs": [],
   "source": []
  },
  {
   "cell_type": "code",
   "execution_count": 1,
   "metadata": {},
   "outputs": [
    {
     "ename": "NameError",
     "evalue": "name 'pd' is not defined",
     "output_type": "error",
     "traceback": [
      "\u001b[0;31m---------------------------------------------------------------------------\u001b[0m",
      "\u001b[0;31mNameError\u001b[0m                                 Traceback (most recent call last)",
      "\u001b[0;32m<ipython-input-1-11af455ed93c>\u001b[0m in \u001b[0;36m<module>\u001b[0;34m\u001b[0m\n\u001b[1;32m      1\u001b[0m \u001b[0mdata\u001b[0m \u001b[0;34m=\u001b[0m \u001b[0;34m[\u001b[0m\u001b[0;34m{\u001b[0m\u001b[0;34m'title'\u001b[0m\u001b[0;34m:\u001b[0m \u001b[0;34m' Buying otc in Canada '\u001b[0m\u001b[0;34m,\u001b[0m \u001b[0;34m'title_extracted'\u001b[0m\u001b[0;34m:\u001b[0m \u001b[0;34m[\u001b[0m\u001b[0;34m]\u001b[0m\u001b[0;34m,\u001b[0m \u001b[0;34m'url'\u001b[0m\u001b[0;34m:\u001b[0m \u001b[0;34m'https://www.reddit.com/r/pennystocks/comments/kxhr80/buying_otc_in_canada/'\u001b[0m\u001b[0;34m}\u001b[0m\u001b[0;34m,\u001b[0m \u001b[0;34m{\u001b[0m\u001b[0;34m'title'\u001b[0m\u001b[0;34m:\u001b[0m \u001b[0;34m' Maganese Corp MNXXF '\u001b[0m\u001b[0;34m,\u001b[0m \u001b[0;34m'title_extracted'\u001b[0m\u001b[0;34m:\u001b[0m \u001b[0;34m[\u001b[0m\u001b[0;34m'MNXXF'\u001b[0m\u001b[0;34m]\u001b[0m\u001b[0;34m,\u001b[0m \u001b[0;34m'url'\u001b[0m\u001b[0;34m:\u001b[0m \u001b[0;34m'https://www.reddit.com/r/pennystocks/comments/kxhncj/maganese_corp_mnxxf/'\u001b[0m\u001b[0;34m}\u001b[0m\u001b[0;34m,\u001b[0m \u001b[0;34m{\u001b[0m\u001b[0;34m'title'\u001b[0m\u001b[0;34m:\u001b[0m \u001b[0;34m' UAMY Looking Good 🙌🏼 '\u001b[0m\u001b[0;34m,\u001b[0m \u001b[0;34m'title_extracted'\u001b[0m\u001b[0;34m:\u001b[0m \u001b[0;34m[\u001b[0m\u001b[0;34m'UAMY'\u001b[0m\u001b[0;34m]\u001b[0m\u001b[0;34m,\u001b[0m \u001b[0;34m'url'\u001b[0m\u001b[0;34m:\u001b[0m \u001b[0;34m'https://www.reddit.com/gallery/kxhkss'\u001b[0m\u001b[0;34m}\u001b[0m\u001b[0;34m,\u001b[0m \u001b[0;34m{\u001b[0m\u001b[0;34m'title'\u001b[0m\u001b[0;34m:\u001b[0m \u001b[0;34m' Asking for a DD &amp; Catalyst BEFORE the run... $VNUE is still .01 and is ready to pop (some DD included) '\u001b[0m\u001b[0;34m,\u001b[0m \u001b[0;34m'title_extracted'\u001b[0m\u001b[0;34m:\u001b[0m \u001b[0;34m[\u001b[0m\u001b[0;34m'VNUE'\u001b[0m\u001b[0;34m,\u001b[0m \u001b[0;34m'BEFOR'\u001b[0m\u001b[0;34m]\u001b[0m\u001b[0;34m,\u001b[0m \u001b[0;34m'url'\u001b[0m\u001b[0;34m:\u001b[0m \u001b[0;34m'https://www.reddit.com/r/pennystocks/comments/kxhik0/asking_for_a_dd_catalyst_before_the_run_vnue_is/'\u001b[0m\u001b[0;34m}\u001b[0m\u001b[0;34m,\u001b[0m \u001b[0;34m{\u001b[0m\u001b[0;34m'title'\u001b[0m\u001b[0;34m:\u001b[0m \u001b[0;34m' Actual Due Diligence for TANH - (Not Moon Hype for once) Tantech Holdings Ltd '\u001b[0m\u001b[0;34m,\u001b[0m \u001b[0;34m'title_extracted'\u001b[0m\u001b[0;34m:\u001b[0m \u001b[0;34m[\u001b[0m\u001b[0;34m'TANH'\u001b[0m\u001b[0;34m]\u001b[0m\u001b[0;34m,\u001b[0m \u001b[0;34m'url'\u001b[0m\u001b[0;34m:\u001b[0m \u001b[0;34m'https://www.reddit.com/r/pennystocks/comments/kxhh25/actual_due_diligence_for_tanh_not_moon_hype_for/'\u001b[0m\u001b[0;34m}\u001b[0m\u001b[0;34m,\u001b[0m \u001b[0;34m{\u001b[0m\u001b[0;34m'title'\u001b[0m\u001b[0;34m:\u001b[0m \u001b[0;34m' $PHUN Blockchain play '\u001b[0m\u001b[0;34m,\u001b[0m \u001b[0;34m'title_extracted'\u001b[0m\u001b[0;34m:\u001b[0m \u001b[0;34m[\u001b[0m\u001b[0;34m'PHUN'\u001b[0m\u001b[0;34m]\u001b[0m\u001b[0;34m,\u001b[0m \u001b[0;34m'url'\u001b[0m\u001b[0;34m:\u001b[0m \u001b[0;34m'https://www.reddit.com/r/pennystocks/comments/kxhe3z/phun_blockchain_play/'\u001b[0m\u001b[0;34m}\u001b[0m\u001b[0;34m,\u001b[0m \u001b[0;34m{\u001b[0m\u001b[0;34m'title'\u001b[0m\u001b[0;34m:\u001b[0m \u001b[0;34m' Resort Savers (RSSV) starting to move... '\u001b[0m\u001b[0;34m,\u001b[0m \u001b[0;34m'title_extracted'\u001b[0m\u001b[0;34m:\u001b[0m \u001b[0;34m[\u001b[0m\u001b[0;34m'RSSV'\u001b[0m\u001b[0;34m]\u001b[0m\u001b[0;34m,\u001b[0m \u001b[0;34m'url'\u001b[0m\u001b[0;34m:\u001b[0m \u001b[0;34m'https://www.reddit.com/r/pennystocks/comments/kxhde6/resort_savers_rssv_starting_to_move/'\u001b[0m\u001b[0;34m}\u001b[0m\u001b[0;34m,\u001b[0m \u001b[0;34m{\u001b[0m\u001b[0;34m'title'\u001b[0m\u001b[0;34m:\u001b[0m \u001b[0;34m' Anomalous Stocks, January 14, 2021 '\u001b[0m\u001b[0;34m,\u001b[0m \u001b[0;34m'title_extracted'\u001b[0m\u001b[0;34m:\u001b[0m \u001b[0;34m[\u001b[0m\u001b[0;34m]\u001b[0m\u001b[0;34m,\u001b[0m \u001b[0;34m'url'\u001b[0m\u001b[0;34m:\u001b[0m \u001b[0;34m'https://www.reddit.com/r/pennystocks/comments/kxh99k/anomalous_stocks_january_14_2021/'\u001b[0m\u001b[0;34m}\u001b[0m\u001b[0;34m,\u001b[0m \u001b[0;34m{\u001b[0m\u001b[0;34m'title'\u001b[0m\u001b[0;34m:\u001b[0m \u001b[0;34m' GGBXF doubling in price? Why? '\u001b[0m\u001b[0;34m,\u001b[0m \u001b[0;34m'title_extracted'\u001b[0m\u001b[0;34m:\u001b[0m \u001b[0;34m[\u001b[0m\u001b[0;34m'GGBXF'\u001b[0m\u001b[0;34m]\u001b[0m\u001b[0;34m,\u001b[0m \u001b[0;34m'url'\u001b[0m\u001b[0;34m:\u001b[0m \u001b[0;34m'https://www.reddit.com/r/pennystocks/comments/kxh8yi/ggbxf_doubling_in_price_why/'\u001b[0m\u001b[0;34m}\u001b[0m\u001b[0;34m,\u001b[0m \u001b[0;34m{\u001b[0m\u001b[0;34m'title'\u001b[0m\u001b[0;34m:\u001b[0m \u001b[0;34m' WANT A STOCK WITH A SOLID TICKER NAME? Buy $EVUS 🚀🚀🚀🚀🚀 '\u001b[0m\u001b[0;34m,\u001b[0m \u001b[0;34m'title_extracted'\u001b[0m\u001b[0;34m:\u001b[0m \u001b[0;34m[\u001b[0m\u001b[0;34m'SOLID'\u001b[0m\u001b[0;34m,\u001b[0m \u001b[0;34m'WITH'\u001b[0m\u001b[0;34m,\u001b[0m \u001b[0;34m'TICKE'\u001b[0m\u001b[0;34m,\u001b[0m \u001b[0;34m'EVUS'\u001b[0m\u001b[0;34m,\u001b[0m \u001b[0;34m'STOCK'\u001b[0m\u001b[0;34m,\u001b[0m \u001b[0;34m'NAME'\u001b[0m\u001b[0;34m,\u001b[0m \u001b[0;34m'WANT'\u001b[0m\u001b[0;34m]\u001b[0m\u001b[0;34m,\u001b[0m \u001b[0;34m'url'\u001b[0m\u001b[0;34m:\u001b[0m \u001b[0;34m'https://www.reddit.com/r/pennystocks/comments/kxh8tb/want_a_stock_with_a_solid_ticker_name_buy_evus/'\u001b[0m\u001b[0;34m}\u001b[0m\u001b[0;34m,\u001b[0m \u001b[0;34m{\u001b[0m\u001b[0;34m'title'\u001b[0m\u001b[0;34m:\u001b[0m \u001b[0;34m' $VGLS ready to TAKE OFF '\u001b[0m\u001b[0;34m,\u001b[0m \u001b[0;34m'title_extracted'\u001b[0m\u001b[0;34m:\u001b[0m \u001b[0;34m[\u001b[0m\u001b[0;34m'VGLS'\u001b[0m\u001b[0;34m,\u001b[0m \u001b[0;34m'OFF'\u001b[0m\u001b[0;34m,\u001b[0m \u001b[0;34m'TAKE'\u001b[0m\u001b[0;34m]\u001b[0m\u001b[0;34m,\u001b[0m \u001b[0;34m'url'\u001b[0m\u001b[0;34m:\u001b[0m \u001b[0;34m'https://www.reddit.com/r/pennystocks/comments/kxh7ng/vgls_ready_to_take_off/'\u001b[0m\u001b[0;34m}\u001b[0m\u001b[0;34m,\u001b[0m \u001b[0;34m{\u001b[0m\u001b[0;34m'title'\u001b[0m\u001b[0;34m:\u001b[0m \u001b[0;34m' What is a good price target for BNGO? '\u001b[0m\u001b[0;34m,\u001b[0m \u001b[0;34m'title_extracted'\u001b[0m\u001b[0;34m:\u001b[0m \u001b[0;34m[\u001b[0m\u001b[0;34m'BNGO'\u001b[0m\u001b[0;34m]\u001b[0m\u001b[0;34m,\u001b[0m \u001b[0;34m'url'\u001b[0m\u001b[0;34m:\u001b[0m \u001b[0;34m'https://www.reddit.com/r/pennystocks/comments/kxh57r/what_is_a_good_price_target_for_bngo/'\u001b[0m\u001b[0;34m}\u001b[0m\u001b[0;34m,\u001b[0m \u001b[0;34m{\u001b[0m\u001b[0;34m'title'\u001b[0m\u001b[0;34m:\u001b[0m \u001b[0;34m' $SENS IS MOON BOUND 🚀🚀🌕🌕 '\u001b[0m\u001b[0;34m,\u001b[0m \u001b[0;34m'title_extracted'\u001b[0m\u001b[0;34m:\u001b[0m \u001b[0;34m[\u001b[0m\u001b[0;34m'MOON'\u001b[0m\u001b[0;34m,\u001b[0m \u001b[0;34m'BOUND'\u001b[0m\u001b[0;34m,\u001b[0m \u001b[0;34m'SENS'\u001b[0m\u001b[0;34m]\u001b[0m\u001b[0;34m,\u001b[0m \u001b[0;34m'url'\u001b[0m\u001b[0;34m:\u001b[0m \u001b[0;34m'https://www.reddit.com/r/pennystocks/comments/kxh4mj/sens_is_moon_bound/'\u001b[0m\u001b[0;34m}\u001b[0m\u001b[0;34m,\u001b[0m \u001b[0;34m{\u001b[0m\u001b[0;34m'title'\u001b[0m\u001b[0;34m:\u001b[0m \u001b[0;34m' ASTI &amp; OMEG to the moon?! 🚀🚀🚀 '\u001b[0m\u001b[0;34m,\u001b[0m \u001b[0;34m'title_extracted'\u001b[0m\u001b[0;34m:\u001b[0m \u001b[0;34m[\u001b[0m\u001b[0;34m'OMEG'\u001b[0m\u001b[0;34m,\u001b[0m \u001b[0;34m'ASTI'\u001b[0m\u001b[0;34m]\u001b[0m\u001b[0;34m,\u001b[0m \u001b[0;34m'url'\u001b[0m\u001b[0;34m:\u001b[0m \u001b[0;34m'https://www.reddit.com/r/pennystocks/comments/kxgxup/asti_omeg_to_the_moon/'\u001b[0m\u001b[0;34m}\u001b[0m\u001b[0;34m]\u001b[0m\u001b[0;34m\u001b[0m\u001b[0;34m\u001b[0m\u001b[0m\n\u001b[1;32m      2\u001b[0m \u001b[0;34m\u001b[0m\u001b[0m\n\u001b[0;32m----> 3\u001b[0;31m \u001b[0mdf\u001b[0m \u001b[0;34m=\u001b[0m \u001b[0mpd\u001b[0m\u001b[0;34m.\u001b[0m\u001b[0mDataFrame\u001b[0m\u001b[0;34m(\u001b[0m\u001b[0mdata\u001b[0m\u001b[0;34m)\u001b[0m\u001b[0;34m\u001b[0m\u001b[0;34m\u001b[0m\u001b[0m\n\u001b[0m\u001b[1;32m      4\u001b[0m \u001b[0mdf\u001b[0m\u001b[0;34m\u001b[0m\u001b[0;34m\u001b[0m\u001b[0m\n",
      "\u001b[0;31mNameError\u001b[0m: name 'pd' is not defined"
     ]
    }
   ],
   "source": [
    "data = [{'title': ' Buying otc in Canada ', 'title_extracted': [], 'url': 'https://www.reddit.com/r/pennystocks/comments/kxhr80/buying_otc_in_canada/'}, {'title': ' Maganese Corp MNXXF ', 'title_extracted': ['MNXXF'], 'url': 'https://www.reddit.com/r/pennystocks/comments/kxhncj/maganese_corp_mnxxf/'}, {'title': ' UAMY Looking Good 🙌🏼 ', 'title_extracted': ['UAMY'], 'url': 'https://www.reddit.com/gallery/kxhkss'}, {'title': ' Asking for a DD &amp; Catalyst BEFORE the run... $VNUE is still .01 and is ready to pop (some DD included) ', 'title_extracted': ['VNUE', 'BEFOR'], 'url': 'https://www.reddit.com/r/pennystocks/comments/kxhik0/asking_for_a_dd_catalyst_before_the_run_vnue_is/'}, {'title': ' Actual Due Diligence for TANH - (Not Moon Hype for once) Tantech Holdings Ltd ', 'title_extracted': ['TANH'], 'url': 'https://www.reddit.com/r/pennystocks/comments/kxhh25/actual_due_diligence_for_tanh_not_moon_hype_for/'}, {'title': ' $PHUN Blockchain play ', 'title_extracted': ['PHUN'], 'url': 'https://www.reddit.com/r/pennystocks/comments/kxhe3z/phun_blockchain_play/'}, {'title': ' Resort Savers (RSSV) starting to move... ', 'title_extracted': ['RSSV'], 'url': 'https://www.reddit.com/r/pennystocks/comments/kxhde6/resort_savers_rssv_starting_to_move/'}, {'title': ' Anomalous Stocks, January 14, 2021 ', 'title_extracted': [], 'url': 'https://www.reddit.com/r/pennystocks/comments/kxh99k/anomalous_stocks_january_14_2021/'}, {'title': ' GGBXF doubling in price? Why? ', 'title_extracted': ['GGBXF'], 'url': 'https://www.reddit.com/r/pennystocks/comments/kxh8yi/ggbxf_doubling_in_price_why/'}, {'title': ' WANT A STOCK WITH A SOLID TICKER NAME? Buy $EVUS 🚀🚀🚀🚀🚀 ', 'title_extracted': ['SOLID', 'WITH', 'TICKE', 'EVUS', 'STOCK', 'NAME', 'WANT'], 'url': 'https://www.reddit.com/r/pennystocks/comments/kxh8tb/want_a_stock_with_a_solid_ticker_name_buy_evus/'}, {'title': ' $VGLS ready to TAKE OFF ', 'title_extracted': ['VGLS', 'OFF', 'TAKE'], 'url': 'https://www.reddit.com/r/pennystocks/comments/kxh7ng/vgls_ready_to_take_off/'}, {'title': ' What is a good price target for BNGO? ', 'title_extracted': ['BNGO'], 'url': 'https://www.reddit.com/r/pennystocks/comments/kxh57r/what_is_a_good_price_target_for_bngo/'}, {'title': ' $SENS IS MOON BOUND 🚀🚀🌕🌕 ', 'title_extracted': ['MOON', 'BOUND', 'SENS'], 'url': 'https://www.reddit.com/r/pennystocks/comments/kxh4mj/sens_is_moon_bound/'}, {'title': ' ASTI &amp; OMEG to the moon?! 🚀🚀🚀 ', 'title_extracted': ['OMEG', 'ASTI'], 'url': 'https://www.reddit.com/r/pennystocks/comments/kxgxup/asti_omeg_to_the_moon/'}]\n",
    "\n",
    "df = pd.DataFrame(data)\n",
    "df"
   ]
  },
  {
   "cell_type": "code",
   "execution_count": null,
   "metadata": {},
   "outputs": [],
   "source": []
  }
 ],
 "metadata": {
  "kernelspec": {
   "display_name": "Python 3",
   "language": "python",
   "name": "python3"
  },
  "language_info": {
   "codemirror_mode": {
    "name": "ipython",
    "version": 3
   },
   "file_extension": ".py",
   "mimetype": "text/x-python",
   "name": "python",
   "nbconvert_exporter": "python",
   "pygments_lexer": "ipython3",
   "version": "3.7.3"
  }
 },
 "nbformat": 4,
 "nbformat_minor": 4
}
